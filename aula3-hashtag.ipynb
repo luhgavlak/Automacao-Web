{
 "cells": [
  {
   "cell_type": "code",
   "execution_count": null,
   "id": "ce2ed456",
   "metadata": {},
   "outputs": [],
   "source": [
    "!pip install selenium"
   ]
  },
  {
   "cell_type": "code",
   "execution_count": 4,
   "id": "3c034495",
   "metadata": {},
   "outputs": [],
   "source": [
    "from selenium import webdriver #permite criar o navegador\n",
    "from selenium.webdriver.common.keys import Keys #permite escrever no navegador\n",
    "from selenium.webdriver.common.by import By #permite selecionar itens no navegador\n",
    "\n",
    "navegador = webdriver.Chrome()\n",
    "\n",
    "# Passo 1: pegar a cotação do dólar\n",
    "navegador.get('https://www.google.com.br/')\n",
    "\n",
    "#pesquisar no google por \"cotação dólar\"\n",
    "navegador.find_element('xpath', '/html/body/div[1]/div[3]/form/div[1]/div[1]/div[1]/div/div[2]/input').send_keys('cotação dólar')\n",
    "navegador.find_element('xpath', '/html/body/div[1]/div[3]/form/div[1]/div[1]/div[1]/div/div[2]/input').send_keys(Keys.ENTER)\n",
    "\n",
    "#pegar a cotação no google\n",
    "cotacao_dolar = navegador.find_element('xpath', '//*[@id=\"knowledge-currency__updatable-data-column\"]/div[1]/div[2]/span[1]').get_attribute('data-value')\n",
    "print(cotacao_dolar)"
   ]
  },
  {
   "cell_type": "code",
   "execution_count": null,
   "id": "6c64c4ad",
   "metadata": {},
   "outputs": [],
   "source": [
    "# Passo 2: pegar a cotação do euro"
   ]
  },
  {
   "cell_type": "code",
   "execution_count": null,
   "id": "841bf3a1",
   "metadata": {},
   "outputs": [],
   "source": [
    "# Passo 3: pegar a cotação do ouro"
   ]
  },
  {
   "cell_type": "code",
   "execution_count": null,
   "id": "099879a3",
   "metadata": {},
   "outputs": [],
   "source": [
    "# Passo 4: atualizar a base de preços (atualizando o preço de compra e o de venda)"
   ]
  },
  {
   "cell_type": "code",
   "execution_count": null,
   "id": "1f53a49c",
   "metadata": {},
   "outputs": [],
   "source": [
    "# Passo 5: exportar a base de preços atualizado"
   ]
  }
 ],
 "metadata": {
  "kernelspec": {
   "display_name": "Python 3 (ipykernel)",
   "language": "python",
   "name": "python3"
  },
  "language_info": {
   "codemirror_mode": {
    "name": "ipython",
    "version": 3
   },
   "file_extension": ".py",
   "mimetype": "text/x-python",
   "name": "python",
   "nbconvert_exporter": "python",
   "pygments_lexer": "ipython3",
   "version": "3.9.12"
  }
 },
 "nbformat": 4,
 "nbformat_minor": 5
}
